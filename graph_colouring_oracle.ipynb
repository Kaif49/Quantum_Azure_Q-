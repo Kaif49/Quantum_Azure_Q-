{
  "cells": [
    {
      "cell_type": "code",
      "source": [
        "from azure.quantum import Workspace\n",
        "workspace = Workspace (\n",
        "   resource_id = \"/subscriptions/d2ea2cc4-3135-44af-b8bc-7017e0784ef8/resourceGroups/AzureQuantum/providers/Microsoft.Quantum/Workspaces/Kaif\",\n",
        "   location = \"eastus\"\n",
        ")\n"
      ],
      "outputs": [],
      "execution_count": 1,
      "metadata": {
        "jupyter": {
          "source_hidden": false,
          "outputs_hidden": false
        },
        "nteract": {
          "transient": {
            "deleting": false
          }
        }
      }
    },
    {
      "cell_type": "code",
      "source": [
        "import qsharp"
      ],
      "outputs": [
        {
          "output_type": "stream",
          "name": "stdout",
          "text": "Preparing Q# environment...\n."
        }
      ],
      "execution_count": 2,
      "metadata": {
        "jupyter": {
          "source_hidden": false,
          "outputs_hidden": false
        },
        "nteract": {
          "transient": {
            "deleting": false
          }
        }
      }
    },
    {
      "cell_type": "code",
      "source": [
        "import qsharp.azure"
      ],
      "outputs": [],
      "execution_count": 3,
      "metadata": {
        "jupyter": {
          "source_hidden": false,
          "outputs_hidden": false
        },
        "nteract": {
          "transient": {
            "deleting": false
          }
        }
      }
    },
    {
      "cell_type": "markdown",
      "source": [
        "We'll describe our graph coloring by an array of nVertices colors. For our example, we'll look for a four-coloring of the graph - a coloring that uses at most four colors, encoded with integers 0 through 3.\n",
        "\n",
        "We need to represent our coloring in a bit string, so we'll use a bit string of length 2 * nVertices, with the first pair of bits encoding the color of vertex 0, the second pair - the color of vertex 1, and so on. We'll store our bits as Boolean values, with 0 and 1 bits encoded as false and true, respectively. The pair of bits will encode an integer color index using little-endian notation, that is, an integer 1 is encoded as 10, with the least significant bit stored first."
      ],
      "metadata": {
        "nteract": {
          "transient": {
            "deleting": false
          }
        }
      }
    },
    {
      "cell_type": "code",
      "source": [
        "%%qsharp\n",
        " open Microsoft.Quantum.Canon;\n",
        " open Microsoft.Quantum.Intrinsic;\n",
        " open Microsoft.Quantum.Measurement;\n",
        " open Microsoft.Quantum.Math;\n",
        " open Microsoft.Quantum.Convert;\n",
        " open Microsoft.Quantum.Arrays;\n",
        " open Microsoft.Quantum.Diagnostics;\n",
        "operation MarkColorEquality(c0 : Qubit[], c1 : Qubit[], target : Qubit) : Unit is Adj+Ctl {\n",
        "        within {\n",
        "            // Iterate over pairs of qubits in matching positions in c0 and c1.\n",
        "            for (q0, q1) in Zipped(c0, c1) {\n",
        "                // Compute XOR of bits q0 and q1 in place (storing it in q1).\n",
        "                CNOT(q0, q1);\n",
        "            }\n",
        "        } apply {\n",
        "            // If all computed XORs are 0, the bit strings are equal - flip the state of the target.\n",
        "            (ControlledOnInt(0, X))(c1, target);\n",
        "        }\n",
        "    }\n",
        "\n",
        "\n",
        "    operation MarkValidVertexColoring(\n",
        "        edges : (Int, Int)[], \n",
        "        colorsRegister : Qubit[], \n",
        "        target : Qubit\n",
        "    ) : Unit is Adj+Ctl {\n",
        "        let nEdges = Length(edges);\n",
        "        // Split the register that encodes the colors into an array of two-qubit registers, one per color.\n",
        "        let colors = Chunks(2, colorsRegister);\n",
        "        // Allocate one extra qubit per edge to mark the edges that connect vertices with the same color.\n",
        "        use conflictQubits = Qubit[nEdges];\n",
        "        within {\n",
        "            for ((start, end), conflictQubit) in Zipped(edges, conflictQubits) {\n",
        "                // Check that the endpoints have different colors: apply MarkColorEquality operation; \n",
        "                // if the colors are the same, the result will be 1, indicating a conflict.\n",
        "                MarkColorEquality(colors[start], colors[end], conflictQubit);\n",
        "            }\n",
        "        } apply {\n",
        "            // If there are no conflicts (all qubits are in 0 state), the vertex coloring is valid.\n",
        "            (ControlledOnInt(0, X))(conflictQubits, target);\n",
        "        }\n",
        "    }\n",
        "\n",
        "\n",
        "    @EntryPoint()\n",
        "    operation ShowColoringValidationCheck() : Unit {\n",
        "        // Graph description: hardcoded from the example\n",
        "        let nVertices = 5;\n",
        "        let edges = [(0, 1), (0, 2), (0, 3), (1, 2), (1, 3), (2, 3), (3, 4)];\n",
        "\n",
        "        // Graph coloring: hardcoded from the example\n",
        "        let coloring = [false, false, true, false, false, true, true, true, false, true];\n",
        "\n",
        "        use (coloringRegister, target) = (Qubit[2 * nVertices], Qubit());\n",
        "        // Encode the coloring in the quantum register:\n",
        "        // apply an X gate to each qubit that corresponds to \"true\" bit in the bit string.\n",
        "        ApplyPauliFromBitString(PauliX, true, coloring, coloringRegister);\n",
        "\n",
        "        // Apply the operation that will check whether the coloring is valid.\n",
        "        MarkValidVertexColoring(edges, coloringRegister, target);\n",
        "\n",
        "        // Print validation result.\n",
        "        let isColoringValid = M(target) == One;\n",
        "        Message($\"The coloring is {isColoringValid ? \"valid\" | \"invalid\"}\");\n",
        "\n",
        "        // Return the qubits to |0⟩ state before releasing them.\n",
        "        ResetAll(coloringRegister);\n",
        "}"
      ],
      "outputs": [],
      "execution_count": 7,
      "metadata": {
        "jupyter": {
          "source_hidden": false,
          "outputs_hidden": false
        },
        "nteract": {
          "transient": {
            "deleting": false
          }
        },
        "microsoft": {
          "language": "qsharp"
        }
      }
    },
    {
      "cell_type": "code",
      "source": [
        "ShowColoringValidationCheck()"
      ],
      "outputs": [
        {
          "output_type": "stream",
          "name": "stdout",
          "text": "The coloring is valid\n"
        },
        {
          "output_type": "execute_result",
          "execution_count": 8,
          "data": {
            "text/plain": "()"
          },
          "metadata": {}
        }
      ],
      "execution_count": 8,
      "metadata": {
        "jupyter": {
          "source_hidden": false,
          "outputs_hidden": false
        },
        "nteract": {
          "transient": {
            "deleting": false
          }
        }
      }
    },
    {
      "cell_type": "code",
      "source": [],
      "outputs": [],
      "execution_count": null,
      "metadata": {
        "jupyter": {
          "source_hidden": false,
          "outputs_hidden": false
        },
        "nteract": {
          "transient": {
            "deleting": false
          }
        }
      }
    }
  ],
  "metadata": {
    "language_info": {
      "name": "python",
      "version": "3.9.17",
      "mimetype": "text/x-python",
      "codemirror_mode": {
        "name": "ipython",
        "version": 3
      },
      "pygments_lexer": "ipython3",
      "nbconvert_exporter": "python",
      "file_extension": ".py"
    },
    "kernelspec": {
      "name": "python3",
      "language": "python",
      "display_name": "Python 3 (ipykernel)"
    },
    "kernel_info": {
      "name": "python3"
    },
    "nteract": {
      "version": "nteract-front-end@1.0.0"
    }
  },
  "nbformat": 4,
  "nbformat_minor": 0
}