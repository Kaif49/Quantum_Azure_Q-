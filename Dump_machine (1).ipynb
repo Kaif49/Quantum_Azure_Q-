{
  "cells": [
    {
      "cell_type": "code",
      "source": [
        "from azure.quantum import Workspace\n",
        "workspace = Workspace (\n",
        "   resource_id = \"/subscriptions/d2ea2cc4-3135-44af-b8bc-7017e0784ef8/resourceGroups/AzureQuantum/providers/Microsoft.Quantum/Workspaces/Kaif\",\n",
        "   location = \"eastus\"\n",
        ")\n"
      ],
      "outputs": [],
      "execution_count": 1,
      "metadata": {
        "jupyter": {
          "source_hidden": false,
          "outputs_hidden": false
        },
        "nteract": {
          "transient": {
            "deleting": false
          }
        }
      }
    },
    {
      "cell_type": "code",
      "source": [
        "import qsharp"
      ],
      "outputs": [
        {
          "output_type": "stream",
          "name": "stdout",
          "text": "Preparing Q# environment...\n."
        }
      ],
      "execution_count": 2,
      "metadata": {
        "jupyter": {
          "source_hidden": false,
          "outputs_hidden": false
        },
        "nteract": {
          "transient": {
            "deleting": false
          }
        }
      }
    },
    {
      "cell_type": "code",
      "source": [
        "import qsharp.azure"
      ],
      "outputs": [],
      "execution_count": 3,
      "metadata": {
        "jupyter": {
          "source_hidden": false,
          "outputs_hidden": false
        },
        "nteract": {
          "transient": {
            "deleting": false
          }
        }
      }
    },
    {
      "cell_type": "code",
      "source": [
        "GenerateRandomBit: any = None"
      ],
      "outputs": [],
      "execution_count": 4,
      "metadata": {
        "jupyter": {
          "source_hidden": false,
          "outputs_hidden": false
        },
        "nteract": {
          "transient": {
            "deleting": false
          }
        }
      }
    },
    {
      "cell_type": "code",
      "source": [
        "%%qsharp\n",
        " open Microsoft.Quantum.Canon;\n",
        " open Microsoft.Quantum.Intrinsic;\n",
        " open Microsoft.Quantum.Measurement;\n",
        " open Microsoft.Quantum.Math;\n",
        " open Microsoft.Quantum.Convert;\n",
        " open Microsoft.Quantum.Diagnostics;\n",
        " open Microsoft.Quantum.Arrays;\n",
        "\n",
        "@EntryPoint()\n",
        "operation GenerateRandomBit() : Result {\n",
        "        use q = Qubit();\n",
        "        Message(\"Initialized qubit:\");\n",
        "        DumpMachine();\n",
        "        Message(\" \");\n",
        "        H(q);\n",
        "        Message(\"Qubit after applying H:\");\n",
        "        DumpMachine();\n",
        "        Message(\" \");\n",
        "        let randomBit = M(q);\n",
        "        Message(\"Qubit after the measurement:\");\n",
        "        DumpMachine();\n",
        "        Message(\" \");\n",
        "        Reset(q);\n",
        "        Message(\"Qubit after resetting:\");\n",
        "        DumpMachine();\n",
        "        Message(\" \");\n",
        "        return randomBit;\n",
        "    }\n",
        "operation GenerateSpecificState(alpha : Double) : Result {\n",
        "        use q = Qubit();\n",
        "        Ry(2.0 * ArcCos(Sqrt(alpha)), q);\n",
        "        Message(\"The qubit is in the desired state.\");\n",
        "        Message(\"\");\n",
        "        DumpMachine();\n",
        "        Message(\"\");\n",
        "        Message(\"Your skewed random bit is:\");\n",
        "        return M(q);\n",
        "    }\n",
        "operation GenerateMultipleState() : Int {\n",
        "        use qubits = Qubit[3];\n",
        "        ApplyToEach(H, qubits);\n",
        "        Message(\"The qubit register in a uniform superposition: \");\n",
        "        DumpMachine();\n",
        "        let result = ForEach(M, qubits);\n",
        "        Message(\"Measuring the qubits collapses the superposition to a basis state.\");\n",
        "        DumpMachine();\n",
        "        return BoolArrayAsInt(ResultArrayAsBoolArray(result));\n",
        "    }"
      ],
      "outputs": [],
      "execution_count": 18,
      "metadata": {
        "jupyter": {
          "source_hidden": false,
          "outputs_hidden": false
        },
        "nteract": {
          "transient": {
            "deleting": false
          }
        },
        "microsoft": {
          "language": "qsharp"
        }
      }
    },
    {
      "cell_type": "code",
      "source": [
        "GenerateRandomBit()"
      ],
      "outputs": [
        {
          "output_type": "stream",
          "name": "stdout",
          "text": "Initialized qubit:\n"
        },
        {
          "output_type": "display_data",
          "data": {
            "text/plain": "|0⟩\t1 + 0𝑖\n|1⟩\t0 + 0𝑖",
            "text/html": "\r\n                    <table style=\"table-layout: fixed; width: 100%\">\r\n                        <thead>\r\n                            \r\n                        <tr>\r\n                            <th>Qubit IDs</th>\r\n                            <td span=\"3\">0</td>\r\n                        </tr>\r\n                    \r\n                            <tr>\r\n                                <th style=\"width: 20ch)\">Basis state (little endian)</th>\r\n                                <th style=\"width: 20ch\">Amplitude</th><th style=\"width: calc(100% - 26ch - 20ch)\">Meas. Pr.</th><th style=\"width: 6ch\">Phase</th>\r\n                            </tr>\r\n                        </thead>\r\n                        <tbody>\r\n                        \r\n                            <tr>\r\n                                <td>$\\left|0\\right\\rangle$</td>\r\n                                <td>$1.0000 + 0.0000 i$</td>\r\n                                \r\n                                <td>\r\n                                    <progress\r\n                                        max=\"100\"\r\n                                        value=\"100\"\r\n                                        style=\"width: 100%;\"\r\n                                    > \r\n                                    <td>\r\n                                    <p id=\"round-0eabc232-e370-4003-ae4b-3fb4eb6b9dab\"> \r\n                                    <script>\r\n                                    var num = 100;\r\n                                    num = num.toFixed(4);\r\n                                    var num_string = num + \"%\";\r\n                                     document.getElementById(\"round-0eabc232-e370-4003-ae4b-3fb4eb6b9dab\").innerHTML = num_string;\r\n                                    </script> </p>\r\n                                    </td>\r\n                                </td>\r\n                            \r\n                                \r\n                                <td style=\"transform: rotate(0deg);\r\n                   text-align: center;\">\r\n                                 ↑\r\n                                </td>\r\n                            \r\n                            </tr>\r\n                        \n\r\n                            <tr>\r\n                                <td>$\\left|1\\right\\rangle$</td>\r\n                                <td>$0.0000 + 0.0000 i$</td>\r\n                                \r\n                                <td>\r\n                                    <progress\r\n                                        max=\"100\"\r\n                                        value=\"0\"\r\n                                        style=\"width: 100%;\"\r\n                                    > \r\n                                    <td>\r\n                                    <p id=\"round-9b8b1388-4051-4754-b81d-3d46535a3b81\"> \r\n                                    <script>\r\n                                    var num = 0;\r\n                                    num = num.toFixed(4);\r\n                                    var num_string = num + \"%\";\r\n                                     document.getElementById(\"round-9b8b1388-4051-4754-b81d-3d46535a3b81\").innerHTML = num_string;\r\n                                    </script> </p>\r\n                                    </td>\r\n                                </td>\r\n                            \r\n                                \r\n                                <td style=\"transform: rotate(0deg);\r\n                   text-align: center;\">\r\n                                 ↑\r\n                                </td>\r\n                            \r\n                            </tr>\r\n                        \r\n                        </tbody>\r\n                    </table>",
            "application/x-qsharp-data": "{\"diagnostic_kind\":\"state-vector\",\"qubit_ids\":[0],\"n_qubits\":1,\"amplitudes\":{\"0\":{\"Real\":1.0,\"Imaginary\":0.0,\"Magnitude\":1.0,\"Phase\":0.0},\"1\":{\"Real\":0.0,\"Imaginary\":0.0,\"Magnitude\":0.0,\"Phase\":0.0}}}"
          },
          "metadata": {}
        },
        {
          "output_type": "stream",
          "name": "stdout",
          "text": " \nQubit after applying H:\n"
        },
        {
          "output_type": "display_data",
          "data": {
            "text/plain": "|0⟩\t0.7071067811865476 + 0𝑖\n|1⟩\t0.7071067811865476 + 0𝑖",
            "text/html": "\r\n                    <table style=\"table-layout: fixed; width: 100%\">\r\n                        <thead>\r\n                            \r\n                        <tr>\r\n                            <th>Qubit IDs</th>\r\n                            <td span=\"3\">0</td>\r\n                        </tr>\r\n                    \r\n                            <tr>\r\n                                <th style=\"width: 20ch)\">Basis state (little endian)</th>\r\n                                <th style=\"width: 20ch\">Amplitude</th><th style=\"width: calc(100% - 26ch - 20ch)\">Meas. Pr.</th><th style=\"width: 6ch\">Phase</th>\r\n                            </tr>\r\n                        </thead>\r\n                        <tbody>\r\n                        \r\n                            <tr>\r\n                                <td>$\\left|0\\right\\rangle$</td>\r\n                                <td>$0.7071 + 0.0000 i$</td>\r\n                                \r\n                                <td>\r\n                                    <progress\r\n                                        max=\"100\"\r\n                                        value=\"50.000000000000014\"\r\n                                        style=\"width: 100%;\"\r\n                                    > \r\n                                    <td>\r\n                                    <p id=\"round-8c43b899-56eb-41d8-8639-d0718557f8bd\"> \r\n                                    <script>\r\n                                    var num = 50.000000000000014;\r\n                                    num = num.toFixed(4);\r\n                                    var num_string = num + \"%\";\r\n                                     document.getElementById(\"round-8c43b899-56eb-41d8-8639-d0718557f8bd\").innerHTML = num_string;\r\n                                    </script> </p>\r\n                                    </td>\r\n                                </td>\r\n                            \r\n                                \r\n                                <td style=\"transform: rotate(0deg);\r\n                   text-align: center;\">\r\n                                 ↑\r\n                                </td>\r\n                            \r\n                            </tr>\r\n                        \n\r\n                            <tr>\r\n                                <td>$\\left|1\\right\\rangle$</td>\r\n                                <td>$0.7071 + 0.0000 i$</td>\r\n                                \r\n                                <td>\r\n                                    <progress\r\n                                        max=\"100\"\r\n                                        value=\"50.000000000000014\"\r\n                                        style=\"width: 100%;\"\r\n                                    > \r\n                                    <td>\r\n                                    <p id=\"round-4c787f5f-dbf9-4692-a4ce-f6ff8104f8bc\"> \r\n                                    <script>\r\n                                    var num = 50.000000000000014;\r\n                                    num = num.toFixed(4);\r\n                                    var num_string = num + \"%\";\r\n                                     document.getElementById(\"round-4c787f5f-dbf9-4692-a4ce-f6ff8104f8bc\").innerHTML = num_string;\r\n                                    </script> </p>\r\n                                    </td>\r\n                                </td>\r\n                            \r\n                                \r\n                                <td style=\"transform: rotate(0deg);\r\n                   text-align: center;\">\r\n                                 ↑\r\n                                </td>\r\n                            \r\n                            </tr>\r\n                        \r\n                        </tbody>\r\n                    </table>",
            "application/x-qsharp-data": "{\"diagnostic_kind\":\"state-vector\",\"qubit_ids\":[0],\"n_qubits\":1,\"amplitudes\":{\"0\":{\"Real\":0.7071067811865476,\"Imaginary\":0.0,\"Magnitude\":0.7071067811865476,\"Phase\":0.0},\"1\":{\"Real\":0.7071067811865476,\"Imaginary\":0.0,\"Magnitude\":0.7071067811865476,\"Phase\":0.0}}}"
          },
          "metadata": {}
        },
        {
          "output_type": "stream",
          "name": "stdout",
          "text": " \nQubit after the measurement:\n"
        },
        {
          "output_type": "display_data",
          "data": {
            "text/plain": "|0⟩\t0 + 0𝑖\n|1⟩\t1 + 0𝑖",
            "text/html": "\r\n                    <table style=\"table-layout: fixed; width: 100%\">\r\n                        <thead>\r\n                            \r\n                        <tr>\r\n                            <th>Qubit IDs</th>\r\n                            <td span=\"3\">0</td>\r\n                        </tr>\r\n                    \r\n                            <tr>\r\n                                <th style=\"width: 20ch)\">Basis state (little endian)</th>\r\n                                <th style=\"width: 20ch\">Amplitude</th><th style=\"width: calc(100% - 26ch - 20ch)\">Meas. Pr.</th><th style=\"width: 6ch\">Phase</th>\r\n                            </tr>\r\n                        </thead>\r\n                        <tbody>\r\n                        \r\n                            <tr>\r\n                                <td>$\\left|0\\right\\rangle$</td>\r\n                                <td>$0.0000 + 0.0000 i$</td>\r\n                                \r\n                                <td>\r\n                                    <progress\r\n                                        max=\"100\"\r\n                                        value=\"0\"\r\n                                        style=\"width: 100%;\"\r\n                                    > \r\n                                    <td>\r\n                                    <p id=\"round-b7eafe15-e265-48db-8c7c-b029950aa14c\"> \r\n                                    <script>\r\n                                    var num = 0;\r\n                                    num = num.toFixed(4);\r\n                                    var num_string = num + \"%\";\r\n                                     document.getElementById(\"round-b7eafe15-e265-48db-8c7c-b029950aa14c\").innerHTML = num_string;\r\n                                    </script> </p>\r\n                                    </td>\r\n                                </td>\r\n                            \r\n                                \r\n                                <td style=\"transform: rotate(0deg);\r\n                   text-align: center;\">\r\n                                 ↑\r\n                                </td>\r\n                            \r\n                            </tr>\r\n                        \n\r\n                            <tr>\r\n                                <td>$\\left|1\\right\\rangle$</td>\r\n                                <td>$1.0000 + 0.0000 i$</td>\r\n                                \r\n                                <td>\r\n                                    <progress\r\n                                        max=\"100\"\r\n                                        value=\"100\"\r\n                                        style=\"width: 100%;\"\r\n                                    > \r\n                                    <td>\r\n                                    <p id=\"round-d1126560-d0ec-4415-852c-ce3a3ef6f21d\"> \r\n                                    <script>\r\n                                    var num = 100;\r\n                                    num = num.toFixed(4);\r\n                                    var num_string = num + \"%\";\r\n                                     document.getElementById(\"round-d1126560-d0ec-4415-852c-ce3a3ef6f21d\").innerHTML = num_string;\r\n                                    </script> </p>\r\n                                    </td>\r\n                                </td>\r\n                            \r\n                                \r\n                                <td style=\"transform: rotate(0deg);\r\n                   text-align: center;\">\r\n                                 ↑\r\n                                </td>\r\n                            \r\n                            </tr>\r\n                        \r\n                        </tbody>\r\n                    </table>",
            "application/x-qsharp-data": "{\"diagnostic_kind\":\"state-vector\",\"qubit_ids\":[0],\"n_qubits\":1,\"amplitudes\":{\"0\":{\"Real\":0.0,\"Imaginary\":0.0,\"Magnitude\":0.0,\"Phase\":0.0},\"1\":{\"Real\":1.0,\"Imaginary\":0.0,\"Magnitude\":1.0,\"Phase\":0.0}}}"
          },
          "metadata": {}
        },
        {
          "output_type": "stream",
          "name": "stdout",
          "text": " \nQubit after resetting:\n"
        },
        {
          "output_type": "display_data",
          "data": {
            "text/plain": "|0⟩\t1 + 0𝑖\n|1⟩\t0 + 0𝑖",
            "text/html": "\r\n                    <table style=\"table-layout: fixed; width: 100%\">\r\n                        <thead>\r\n                            \r\n                        <tr>\r\n                            <th>Qubit IDs</th>\r\n                            <td span=\"3\">0</td>\r\n                        </tr>\r\n                    \r\n                            <tr>\r\n                                <th style=\"width: 20ch)\">Basis state (little endian)</th>\r\n                                <th style=\"width: 20ch\">Amplitude</th><th style=\"width: calc(100% - 26ch - 20ch)\">Meas. Pr.</th><th style=\"width: 6ch\">Phase</th>\r\n                            </tr>\r\n                        </thead>\r\n                        <tbody>\r\n                        \r\n                            <tr>\r\n                                <td>$\\left|0\\right\\rangle$</td>\r\n                                <td>$1.0000 + 0.0000 i$</td>\r\n                                \r\n                                <td>\r\n                                    <progress\r\n                                        max=\"100\"\r\n                                        value=\"100\"\r\n                                        style=\"width: 100%;\"\r\n                                    > \r\n                                    <td>\r\n                                    <p id=\"round-ba55685e-d23b-485b-8410-45db843a823b\"> \r\n                                    <script>\r\n                                    var num = 100;\r\n                                    num = num.toFixed(4);\r\n                                    var num_string = num + \"%\";\r\n                                     document.getElementById(\"round-ba55685e-d23b-485b-8410-45db843a823b\").innerHTML = num_string;\r\n                                    </script> </p>\r\n                                    </td>\r\n                                </td>\r\n                            \r\n                                \r\n                                <td style=\"transform: rotate(0deg);\r\n                   text-align: center;\">\r\n                                 ↑\r\n                                </td>\r\n                            \r\n                            </tr>\r\n                        \n\r\n                            <tr>\r\n                                <td>$\\left|1\\right\\rangle$</td>\r\n                                <td>$0.0000 + 0.0000 i$</td>\r\n                                \r\n                                <td>\r\n                                    <progress\r\n                                        max=\"100\"\r\n                                        value=\"0\"\r\n                                        style=\"width: 100%;\"\r\n                                    > \r\n                                    <td>\r\n                                    <p id=\"round-789de1a1-5639-48db-9d2f-3842ac657ec2\"> \r\n                                    <script>\r\n                                    var num = 0;\r\n                                    num = num.toFixed(4);\r\n                                    var num_string = num + \"%\";\r\n                                     document.getElementById(\"round-789de1a1-5639-48db-9d2f-3842ac657ec2\").innerHTML = num_string;\r\n                                    </script> </p>\r\n                                    </td>\r\n                                </td>\r\n                            \r\n                                \r\n                                <td style=\"transform: rotate(0deg);\r\n                   text-align: center;\">\r\n                                 ↑\r\n                                </td>\r\n                            \r\n                            </tr>\r\n                        \r\n                        </tbody>\r\n                    </table>",
            "application/x-qsharp-data": "{\"diagnostic_kind\":\"state-vector\",\"qubit_ids\":[0],\"n_qubits\":1,\"amplitudes\":{\"0\":{\"Real\":1.0,\"Imaginary\":0.0,\"Magnitude\":1.0,\"Phase\":0.0},\"1\":{\"Real\":0.0,\"Imaginary\":0.0,\"Magnitude\":0.0,\"Phase\":0.0}}}"
          },
          "metadata": {}
        },
        {
          "output_type": "stream",
          "name": "stdout",
          "text": " \n"
        },
        {
          "output_type": "execute_result",
          "execution_count": 7,
          "data": {
            "text/plain": "1"
          },
          "metadata": {}
        }
      ],
      "execution_count": 7,
      "metadata": {
        "jupyter": {
          "source_hidden": false,
          "outputs_hidden": false
        },
        "nteract": {
          "transient": {
            "deleting": false
          }
        }
      }
    },
    {
      "cell_type": "code",
      "source": [
        "GenerateSpecificState(alpha=0.333333)"
      ],
      "outputs": [
        {
          "output_type": "stream",
          "name": "stdout",
          "text": "The qubit is in the desired state.\n\n"
        },
        {
          "output_type": "display_data",
          "data": {
            "text/plain": "|0⟩\t0.577349980514419 + 0𝑖\n|1⟩\t0.8164967850518458 + 0𝑖",
            "text/html": "\r\n                    <table style=\"table-layout: fixed; width: 100%\">\r\n                        <thead>\r\n                            \r\n                        <tr>\r\n                            <th>Qubit IDs</th>\r\n                            <td span=\"3\">0</td>\r\n                        </tr>\r\n                    \r\n                            <tr>\r\n                                <th style=\"width: 20ch)\">Basis state (little endian)</th>\r\n                                <th style=\"width: 20ch\">Amplitude</th><th style=\"width: calc(100% - 26ch - 20ch)\">Meas. Pr.</th><th style=\"width: 6ch\">Phase</th>\r\n                            </tr>\r\n                        </thead>\r\n                        <tbody>\r\n                        \r\n                            <tr>\r\n                                <td>$\\left|0\\right\\rangle$</td>\r\n                                <td>$0.5773 + 0.0000 i$</td>\r\n                                \r\n                                <td>\r\n                                    <progress\r\n                                        max=\"100\"\r\n                                        value=\"33.3333\"\r\n                                        style=\"width: 100%;\"\r\n                                    > \r\n                                    <td>\r\n                                    <p id=\"round-cdea1d1b-7a72-464b-84bf-326e83b9c6d4\"> \r\n                                    <script>\r\n                                    var num = 33.3333;\r\n                                    num = num.toFixed(4);\r\n                                    var num_string = num + \"%\";\r\n                                     document.getElementById(\"round-cdea1d1b-7a72-464b-84bf-326e83b9c6d4\").innerHTML = num_string;\r\n                                    </script> </p>\r\n                                    </td>\r\n                                </td>\r\n                            \r\n                                \r\n                                <td style=\"transform: rotate(0deg);\r\n                   text-align: center;\">\r\n                                 ↑\r\n                                </td>\r\n                            \r\n                            </tr>\r\n                        \n\r\n                            <tr>\r\n                                <td>$\\left|1\\right\\rangle$</td>\r\n                                <td>$0.8165 + 0.0000 i$</td>\r\n                                \r\n                                <td>\r\n                                    <progress\r\n                                        max=\"100\"\r\n                                        value=\"66.6667\"\r\n                                        style=\"width: 100%;\"\r\n                                    > \r\n                                    <td>\r\n                                    <p id=\"round-1afd63a8-85a6-4e30-b681-c6581ec21e07\"> \r\n                                    <script>\r\n                                    var num = 66.6667;\r\n                                    num = num.toFixed(4);\r\n                                    var num_string = num + \"%\";\r\n                                     document.getElementById(\"round-1afd63a8-85a6-4e30-b681-c6581ec21e07\").innerHTML = num_string;\r\n                                    </script> </p>\r\n                                    </td>\r\n                                </td>\r\n                            \r\n                                \r\n                                <td style=\"transform: rotate(0deg);\r\n                   text-align: center;\">\r\n                                 ↑\r\n                                </td>\r\n                            \r\n                            </tr>\r\n                        \r\n                        </tbody>\r\n                    </table>",
            "application/x-qsharp-data": "{\"diagnostic_kind\":\"state-vector\",\"qubit_ids\":[0],\"n_qubits\":1,\"amplitudes\":{\"0\":{\"Real\":0.577349980514419,\"Imaginary\":0.0,\"Magnitude\":0.577349980514419,\"Phase\":0.0},\"1\":{\"Real\":0.8164967850518458,\"Imaginary\":0.0,\"Magnitude\":0.8164967850518458,\"Phase\":0.0}}}"
          },
          "metadata": {}
        },
        {
          "output_type": "stream",
          "name": "stdout",
          "text": "\nYour skewed random bit is:\n"
        },
        {
          "output_type": "execute_result",
          "execution_count": 16,
          "data": {
            "text/plain": "1"
          },
          "metadata": {}
        }
      ],
      "execution_count": 16,
      "metadata": {
        "jupyter": {
          "source_hidden": false,
          "outputs_hidden": false
        },
        "nteract": {
          "transient": {
            "deleting": false
          }
        }
      }
    },
    {
      "cell_type": "code",
      "source": [
        "GenerateMultipleState()"
      ],
      "outputs": [
        {
          "output_type": "stream",
          "name": "stdout",
          "text": "The qubit register in a uniform superposition: \n"
        },
        {
          "output_type": "display_data",
          "data": {
            "text/plain": "|0⟩\t0.35355339059327384 + 0𝑖\n|1⟩\t0.35355339059327384 + 0𝑖\n|2⟩\t0.35355339059327384 + 0𝑖\n|3⟩\t0.35355339059327384 + 0𝑖\n|4⟩\t0.35355339059327384 + 0𝑖\n|5⟩\t0.35355339059327384 + 0𝑖\n|6⟩\t0.35355339059327384 + 0𝑖\n|7⟩\t0.35355339059327384 + 0𝑖",
            "text/html": "\r\n                    <table style=\"table-layout: fixed; width: 100%\">\r\n                        <thead>\r\n                            \r\n                        <tr>\r\n                            <th>Qubit IDs</th>\r\n                            <td span=\"3\">0, 1, 2</td>\r\n                        </tr>\r\n                    \r\n                            <tr>\r\n                                <th style=\"width: 20ch)\">Basis state (little endian)</th>\r\n                                <th style=\"width: 20ch\">Amplitude</th><th style=\"width: calc(100% - 26ch - 20ch)\">Meas. Pr.</th><th style=\"width: 6ch\">Phase</th>\r\n                            </tr>\r\n                        </thead>\r\n                        <tbody>\r\n                        \r\n                            <tr>\r\n                                <td>$\\left|0\\right\\rangle$</td>\r\n                                <td>$0.3536 + 0.0000 i$</td>\r\n                                \r\n                                <td>\r\n                                    <progress\r\n                                        max=\"100\"\r\n                                        value=\"12.500000000000005\"\r\n                                        style=\"width: 100%;\"\r\n                                    > \r\n                                    <td>\r\n                                    <p id=\"round-3494ea1d-af63-4f7e-b57f-9871f85c5e21\"> \r\n                                    <script>\r\n                                    var num = 12.500000000000005;\r\n                                    num = num.toFixed(4);\r\n                                    var num_string = num + \"%\";\r\n                                     document.getElementById(\"round-3494ea1d-af63-4f7e-b57f-9871f85c5e21\").innerHTML = num_string;\r\n                                    </script> </p>\r\n                                    </td>\r\n                                </td>\r\n                            \r\n                                \r\n                                <td style=\"transform: rotate(0deg);\r\n                   text-align: center;\">\r\n                                 ↑\r\n                                </td>\r\n                            \r\n                            </tr>\r\n                        \n\r\n                            <tr>\r\n                                <td>$\\left|1\\right\\rangle$</td>\r\n                                <td>$0.3536 + 0.0000 i$</td>\r\n                                \r\n                                <td>\r\n                                    <progress\r\n                                        max=\"100\"\r\n                                        value=\"12.500000000000005\"\r\n                                        style=\"width: 100%;\"\r\n                                    > \r\n                                    <td>\r\n                                    <p id=\"round-76f07226-e7f1-4527-9f33-2c4b97c3399f\"> \r\n                                    <script>\r\n                                    var num = 12.500000000000005;\r\n                                    num = num.toFixed(4);\r\n                                    var num_string = num + \"%\";\r\n                                     document.getElementById(\"round-76f07226-e7f1-4527-9f33-2c4b97c3399f\").innerHTML = num_string;\r\n                                    </script> </p>\r\n                                    </td>\r\n                                </td>\r\n                            \r\n                                \r\n                                <td style=\"transform: rotate(0deg);\r\n                   text-align: center;\">\r\n                                 ↑\r\n                                </td>\r\n                            \r\n                            </tr>\r\n                        \n\r\n                            <tr>\r\n                                <td>$\\left|2\\right\\rangle$</td>\r\n                                <td>$0.3536 + 0.0000 i$</td>\r\n                                \r\n                                <td>\r\n                                    <progress\r\n                                        max=\"100\"\r\n                                        value=\"12.500000000000005\"\r\n                                        style=\"width: 100%;\"\r\n                                    > \r\n                                    <td>\r\n                                    <p id=\"round-b16379f6-4ceb-4b7b-9e7e-b05ce9345fd5\"> \r\n                                    <script>\r\n                                    var num = 12.500000000000005;\r\n                                    num = num.toFixed(4);\r\n                                    var num_string = num + \"%\";\r\n                                     document.getElementById(\"round-b16379f6-4ceb-4b7b-9e7e-b05ce9345fd5\").innerHTML = num_string;\r\n                                    </script> </p>\r\n                                    </td>\r\n                                </td>\r\n                            \r\n                                \r\n                                <td style=\"transform: rotate(0deg);\r\n                   text-align: center;\">\r\n                                 ↑\r\n                                </td>\r\n                            \r\n                            </tr>\r\n                        \n\r\n                            <tr>\r\n                                <td>$\\left|3\\right\\rangle$</td>\r\n                                <td>$0.3536 + 0.0000 i$</td>\r\n                                \r\n                                <td>\r\n                                    <progress\r\n                                        max=\"100\"\r\n                                        value=\"12.500000000000005\"\r\n                                        style=\"width: 100%;\"\r\n                                    > \r\n                                    <td>\r\n                                    <p id=\"round-0b4dff15-a930-4e0b-9163-376e3cdc389a\"> \r\n                                    <script>\r\n                                    var num = 12.500000000000005;\r\n                                    num = num.toFixed(4);\r\n                                    var num_string = num + \"%\";\r\n                                     document.getElementById(\"round-0b4dff15-a930-4e0b-9163-376e3cdc389a\").innerHTML = num_string;\r\n                                    </script> </p>\r\n                                    </td>\r\n                                </td>\r\n                            \r\n                                \r\n                                <td style=\"transform: rotate(0deg);\r\n                   text-align: center;\">\r\n                                 ↑\r\n                                </td>\r\n                            \r\n                            </tr>\r\n                        \n\r\n                            <tr>\r\n                                <td>$\\left|4\\right\\rangle$</td>\r\n                                <td>$0.3536 + 0.0000 i$</td>\r\n                                \r\n                                <td>\r\n                                    <progress\r\n                                        max=\"100\"\r\n                                        value=\"12.500000000000005\"\r\n                                        style=\"width: 100%;\"\r\n                                    > \r\n                                    <td>\r\n                                    <p id=\"round-1c63f392-453e-44fa-90cf-600693fae9af\"> \r\n                                    <script>\r\n                                    var num = 12.500000000000005;\r\n                                    num = num.toFixed(4);\r\n                                    var num_string = num + \"%\";\r\n                                     document.getElementById(\"round-1c63f392-453e-44fa-90cf-600693fae9af\").innerHTML = num_string;\r\n                                    </script> </p>\r\n                                    </td>\r\n                                </td>\r\n                            \r\n                                \r\n                                <td style=\"transform: rotate(0deg);\r\n                   text-align: center;\">\r\n                                 ↑\r\n                                </td>\r\n                            \r\n                            </tr>\r\n                        \n\r\n                            <tr>\r\n                                <td>$\\left|5\\right\\rangle$</td>\r\n                                <td>$0.3536 + 0.0000 i$</td>\r\n                                \r\n                                <td>\r\n                                    <progress\r\n                                        max=\"100\"\r\n                                        value=\"12.500000000000005\"\r\n                                        style=\"width: 100%;\"\r\n                                    > \r\n                                    <td>\r\n                                    <p id=\"round-a5b86ece-4b5c-4fca-9d42-be813a1b7b5f\"> \r\n                                    <script>\r\n                                    var num = 12.500000000000005;\r\n                                    num = num.toFixed(4);\r\n                                    var num_string = num + \"%\";\r\n                                     document.getElementById(\"round-a5b86ece-4b5c-4fca-9d42-be813a1b7b5f\").innerHTML = num_string;\r\n                                    </script> </p>\r\n                                    </td>\r\n                                </td>\r\n                            \r\n                                \r\n                                <td style=\"transform: rotate(0deg);\r\n                   text-align: center;\">\r\n                                 ↑\r\n                                </td>\r\n                            \r\n                            </tr>\r\n                        \n\r\n                            <tr>\r\n                                <td>$\\left|6\\right\\rangle$</td>\r\n                                <td>$0.3536 + 0.0000 i$</td>\r\n                                \r\n                                <td>\r\n                                    <progress\r\n                                        max=\"100\"\r\n                                        value=\"12.500000000000005\"\r\n                                        style=\"width: 100%;\"\r\n                                    > \r\n                                    <td>\r\n                                    <p id=\"round-c869b44b-82ce-453f-8a01-dfe643dde0a1\"> \r\n                                    <script>\r\n                                    var num = 12.500000000000005;\r\n                                    num = num.toFixed(4);\r\n                                    var num_string = num + \"%\";\r\n                                     document.getElementById(\"round-c869b44b-82ce-453f-8a01-dfe643dde0a1\").innerHTML = num_string;\r\n                                    </script> </p>\r\n                                    </td>\r\n                                </td>\r\n                            \r\n                                \r\n                                <td style=\"transform: rotate(0deg);\r\n                   text-align: center;\">\r\n                                 ↑\r\n                                </td>\r\n                            \r\n                            </tr>\r\n                        \n\r\n                            <tr>\r\n                                <td>$\\left|7\\right\\rangle$</td>\r\n                                <td>$0.3536 + 0.0000 i$</td>\r\n                                \r\n                                <td>\r\n                                    <progress\r\n                                        max=\"100\"\r\n                                        value=\"12.500000000000005\"\r\n                                        style=\"width: 100%;\"\r\n                                    > \r\n                                    <td>\r\n                                    <p id=\"round-5708ddc4-c213-4761-9044-d6710bc27963\"> \r\n                                    <script>\r\n                                    var num = 12.500000000000005;\r\n                                    num = num.toFixed(4);\r\n                                    var num_string = num + \"%\";\r\n                                     document.getElementById(\"round-5708ddc4-c213-4761-9044-d6710bc27963\").innerHTML = num_string;\r\n                                    </script> </p>\r\n                                    </td>\r\n                                </td>\r\n                            \r\n                                \r\n                                <td style=\"transform: rotate(0deg);\r\n                   text-align: center;\">\r\n                                 ↑\r\n                                </td>\r\n                            \r\n                            </tr>\r\n                        \r\n                        </tbody>\r\n                    </table>",
            "application/x-qsharp-data": "{\"diagnostic_kind\":\"state-vector\",\"qubit_ids\":[0,1,2],\"n_qubits\":3,\"amplitudes\":{\"0\":{\"Real\":0.35355339059327384,\"Imaginary\":0.0,\"Magnitude\":0.35355339059327384,\"Phase\":0.0},\"1\":{\"Real\":0.35355339059327384,\"Imaginary\":0.0,\"Magnitude\":0.35355339059327384,\"Phase\":0.0},\"2\":{\"Real\":0.35355339059327384,\"Imaginary\":0.0,\"Magnitude\":0.35355339059327384,\"Phase\":0.0},\"3\":{\"Real\":0.35355339059327384,\"Imaginary\":0.0,\"Magnitude\":0.35355339059327384,\"Phase\":0.0},\"4\":{\"Real\":0.35355339059327384,\"Imaginary\":0.0,\"Magnitude\":0.35355339059327384,\"Phase\":0.0},\"5\":{\"Real\":0.35355339059327384,\"Imaginary\":0.0,\"Magnitude\":0.35355339059327384,\"Phase\":0.0},\"6\":{\"Real\":0.35355339059327384,\"Imaginary\":0.0,\"Magnitude\":0.35355339059327384,\"Phase\":0.0},\"7\":{\"Real\":0.35355339059327384,\"Imaginary\":0.0,\"Magnitude\":0.35355339059327384,\"Phase\":0.0}}}"
          },
          "metadata": {}
        },
        {
          "output_type": "stream",
          "name": "stdout",
          "text": "Measuring the qubits collapses the superposition to a basis state.\n"
        },
        {
          "output_type": "display_data",
          "data": {
            "text/plain": "|0⟩\t0 + 0𝑖\n|1⟩\t0 + 0𝑖\n|2⟩\t0 + 0𝑖\n|3⟩\t1 + 0𝑖\n|4⟩\t0 + 0𝑖\n|5⟩\t0 + 0𝑖\n|6⟩\t0 + 0𝑖\n|7⟩\t0 + 0𝑖",
            "text/html": "\r\n                    <table style=\"table-layout: fixed; width: 100%\">\r\n                        <thead>\r\n                            \r\n                        <tr>\r\n                            <th>Qubit IDs</th>\r\n                            <td span=\"3\">0, 1, 2</td>\r\n                        </tr>\r\n                    \r\n                            <tr>\r\n                                <th style=\"width: 20ch)\">Basis state (little endian)</th>\r\n                                <th style=\"width: 20ch\">Amplitude</th><th style=\"width: calc(100% - 26ch - 20ch)\">Meas. Pr.</th><th style=\"width: 6ch\">Phase</th>\r\n                            </tr>\r\n                        </thead>\r\n                        <tbody>\r\n                        \r\n                            <tr>\r\n                                <td>$\\left|0\\right\\rangle$</td>\r\n                                <td>$0.0000 + 0.0000 i$</td>\r\n                                \r\n                                <td>\r\n                                    <progress\r\n                                        max=\"100\"\r\n                                        value=\"0\"\r\n                                        style=\"width: 100%;\"\r\n                                    > \r\n                                    <td>\r\n                                    <p id=\"round-e35963d0-19ff-4165-8f7a-9e1aea7a1be3\"> \r\n                                    <script>\r\n                                    var num = 0;\r\n                                    num = num.toFixed(4);\r\n                                    var num_string = num + \"%\";\r\n                                     document.getElementById(\"round-e35963d0-19ff-4165-8f7a-9e1aea7a1be3\").innerHTML = num_string;\r\n                                    </script> </p>\r\n                                    </td>\r\n                                </td>\r\n                            \r\n                                \r\n                                <td style=\"transform: rotate(0deg);\r\n                   text-align: center;\">\r\n                                 ↑\r\n                                </td>\r\n                            \r\n                            </tr>\r\n                        \n\r\n                            <tr>\r\n                                <td>$\\left|1\\right\\rangle$</td>\r\n                                <td>$0.0000 + 0.0000 i$</td>\r\n                                \r\n                                <td>\r\n                                    <progress\r\n                                        max=\"100\"\r\n                                        value=\"0\"\r\n                                        style=\"width: 100%;\"\r\n                                    > \r\n                                    <td>\r\n                                    <p id=\"round-ab26cd2c-2bfa-4782-bbe3-b85178fe4835\"> \r\n                                    <script>\r\n                                    var num = 0;\r\n                                    num = num.toFixed(4);\r\n                                    var num_string = num + \"%\";\r\n                                     document.getElementById(\"round-ab26cd2c-2bfa-4782-bbe3-b85178fe4835\").innerHTML = num_string;\r\n                                    </script> </p>\r\n                                    </td>\r\n                                </td>\r\n                            \r\n                                \r\n                                <td style=\"transform: rotate(0deg);\r\n                   text-align: center;\">\r\n                                 ↑\r\n                                </td>\r\n                            \r\n                            </tr>\r\n                        \n\r\n                            <tr>\r\n                                <td>$\\left|2\\right\\rangle$</td>\r\n                                <td>$0.0000 + 0.0000 i$</td>\r\n                                \r\n                                <td>\r\n                                    <progress\r\n                                        max=\"100\"\r\n                                        value=\"0\"\r\n                                        style=\"width: 100%;\"\r\n                                    > \r\n                                    <td>\r\n                                    <p id=\"round-6d8d4d81-891f-4384-b6bf-503e7ab393e3\"> \r\n                                    <script>\r\n                                    var num = 0;\r\n                                    num = num.toFixed(4);\r\n                                    var num_string = num + \"%\";\r\n                                     document.getElementById(\"round-6d8d4d81-891f-4384-b6bf-503e7ab393e3\").innerHTML = num_string;\r\n                                    </script> </p>\r\n                                    </td>\r\n                                </td>\r\n                            \r\n                                \r\n                                <td style=\"transform: rotate(0deg);\r\n                   text-align: center;\">\r\n                                 ↑\r\n                                </td>\r\n                            \r\n                            </tr>\r\n                        \n\r\n                            <tr>\r\n                                <td>$\\left|3\\right\\rangle$</td>\r\n                                <td>$1.0000 + 0.0000 i$</td>\r\n                                \r\n                                <td>\r\n                                    <progress\r\n                                        max=\"100\"\r\n                                        value=\"100\"\r\n                                        style=\"width: 100%;\"\r\n                                    > \r\n                                    <td>\r\n                                    <p id=\"round-3e9ed954-3a1c-4afc-bbc0-7c9607b0396a\"> \r\n                                    <script>\r\n                                    var num = 100;\r\n                                    num = num.toFixed(4);\r\n                                    var num_string = num + \"%\";\r\n                                     document.getElementById(\"round-3e9ed954-3a1c-4afc-bbc0-7c9607b0396a\").innerHTML = num_string;\r\n                                    </script> </p>\r\n                                    </td>\r\n                                </td>\r\n                            \r\n                                \r\n                                <td style=\"transform: rotate(0deg);\r\n                   text-align: center;\">\r\n                                 ↑\r\n                                </td>\r\n                            \r\n                            </tr>\r\n                        \n\r\n                            <tr>\r\n                                <td>$\\left|4\\right\\rangle$</td>\r\n                                <td>$0.0000 + 0.0000 i$</td>\r\n                                \r\n                                <td>\r\n                                    <progress\r\n                                        max=\"100\"\r\n                                        value=\"0\"\r\n                                        style=\"width: 100%;\"\r\n                                    > \r\n                                    <td>\r\n                                    <p id=\"round-dd91b474-1641-45cd-b3f2-583991dd74e3\"> \r\n                                    <script>\r\n                                    var num = 0;\r\n                                    num = num.toFixed(4);\r\n                                    var num_string = num + \"%\";\r\n                                     document.getElementById(\"round-dd91b474-1641-45cd-b3f2-583991dd74e3\").innerHTML = num_string;\r\n                                    </script> </p>\r\n                                    </td>\r\n                                </td>\r\n                            \r\n                                \r\n                                <td style=\"transform: rotate(0deg);\r\n                   text-align: center;\">\r\n                                 ↑\r\n                                </td>\r\n                            \r\n                            </tr>\r\n                        \n\r\n                            <tr>\r\n                                <td>$\\left|5\\right\\rangle$</td>\r\n                                <td>$0.0000 + 0.0000 i$</td>\r\n                                \r\n                                <td>\r\n                                    <progress\r\n                                        max=\"100\"\r\n                                        value=\"0\"\r\n                                        style=\"width: 100%;\"\r\n                                    > \r\n                                    <td>\r\n                                    <p id=\"round-4d7bba7f-8e04-4344-b4a8-c7aea60d6946\"> \r\n                                    <script>\r\n                                    var num = 0;\r\n                                    num = num.toFixed(4);\r\n                                    var num_string = num + \"%\";\r\n                                     document.getElementById(\"round-4d7bba7f-8e04-4344-b4a8-c7aea60d6946\").innerHTML = num_string;\r\n                                    </script> </p>\r\n                                    </td>\r\n                                </td>\r\n                            \r\n                                \r\n                                <td style=\"transform: rotate(0deg);\r\n                   text-align: center;\">\r\n                                 ↑\r\n                                </td>\r\n                            \r\n                            </tr>\r\n                        \n\r\n                            <tr>\r\n                                <td>$\\left|6\\right\\rangle$</td>\r\n                                <td>$0.0000 + 0.0000 i$</td>\r\n                                \r\n                                <td>\r\n                                    <progress\r\n                                        max=\"100\"\r\n                                        value=\"0\"\r\n                                        style=\"width: 100%;\"\r\n                                    > \r\n                                    <td>\r\n                                    <p id=\"round-8291fec0-295c-4c23-aa27-4b13b253a73f\"> \r\n                                    <script>\r\n                                    var num = 0;\r\n                                    num = num.toFixed(4);\r\n                                    var num_string = num + \"%\";\r\n                                     document.getElementById(\"round-8291fec0-295c-4c23-aa27-4b13b253a73f\").innerHTML = num_string;\r\n                                    </script> </p>\r\n                                    </td>\r\n                                </td>\r\n                            \r\n                                \r\n                                <td style=\"transform: rotate(0deg);\r\n                   text-align: center;\">\r\n                                 ↑\r\n                                </td>\r\n                            \r\n                            </tr>\r\n                        \n\r\n                            <tr>\r\n                                <td>$\\left|7\\right\\rangle$</td>\r\n                                <td>$0.0000 + 0.0000 i$</td>\r\n                                \r\n                                <td>\r\n                                    <progress\r\n                                        max=\"100\"\r\n                                        value=\"0\"\r\n                                        style=\"width: 100%;\"\r\n                                    > \r\n                                    <td>\r\n                                    <p id=\"round-a3ff0768-d1fb-40fe-b754-9ee9b8abff4e\"> \r\n                                    <script>\r\n                                    var num = 0;\r\n                                    num = num.toFixed(4);\r\n                                    var num_string = num + \"%\";\r\n                                     document.getElementById(\"round-a3ff0768-d1fb-40fe-b754-9ee9b8abff4e\").innerHTML = num_string;\r\n                                    </script> </p>\r\n                                    </td>\r\n                                </td>\r\n                            \r\n                                \r\n                                <td style=\"transform: rotate(0deg);\r\n                   text-align: center;\">\r\n                                 ↑\r\n                                </td>\r\n                            \r\n                            </tr>\r\n                        \r\n                        </tbody>\r\n                    </table>",
            "application/x-qsharp-data": "{\"diagnostic_kind\":\"state-vector\",\"qubit_ids\":[0,1,2],\"n_qubits\":3,\"amplitudes\":{\"0\":{\"Real\":0.0,\"Imaginary\":0.0,\"Magnitude\":0.0,\"Phase\":0.0},\"1\":{\"Real\":0.0,\"Imaginary\":0.0,\"Magnitude\":0.0,\"Phase\":0.0},\"2\":{\"Real\":0.0,\"Imaginary\":0.0,\"Magnitude\":0.0,\"Phase\":0.0},\"3\":{\"Real\":1.0,\"Imaginary\":0.0,\"Magnitude\":1.0,\"Phase\":0.0},\"4\":{\"Real\":0.0,\"Imaginary\":0.0,\"Magnitude\":0.0,\"Phase\":0.0},\"5\":{\"Real\":0.0,\"Imaginary\":0.0,\"Magnitude\":0.0,\"Phase\":0.0},\"6\":{\"Real\":0.0,\"Imaginary\":0.0,\"Magnitude\":0.0,\"Phase\":0.0},\"7\":{\"Real\":0.0,\"Imaginary\":0.0,\"Magnitude\":0.0,\"Phase\":0.0}}}"
          },
          "metadata": {}
        },
        {
          "output_type": "execute_result",
          "execution_count": 19,
          "data": {
            "text/plain": "3"
          },
          "metadata": {}
        }
      ],
      "execution_count": 19,
      "metadata": {
        "jupyter": {
          "source_hidden": false,
          "outputs_hidden": false
        },
        "nteract": {
          "transient": {
            "deleting": false
          }
        }
      }
    },
    {
      "cell_type": "code",
      "source": [],
      "outputs": [],
      "execution_count": null,
      "metadata": {
        "jupyter": {
          "source_hidden": false,
          "outputs_hidden": false
        },
        "nteract": {
          "transient": {
            "deleting": false
          }
        }
      }
    }
  ],
  "metadata": {
    "language_info": {
      "name": "python",
      "version": "3.9.17",
      "mimetype": "text/x-python",
      "codemirror_mode": {
        "name": "ipython",
        "version": 3
      },
      "pygments_lexer": "ipython3",
      "nbconvert_exporter": "python",
      "file_extension": ".py"
    },
    "kernelspec": {
      "name": "python3",
      "language": "python",
      "display_name": "Python 3 (ipykernel)"
    },
    "kernel_info": {
      "name": "python3"
    },
    "nteract": {
      "version": "nteract-front-end@1.0.0"
    }
  },
  "nbformat": 4,
  "nbformat_minor": 0
}