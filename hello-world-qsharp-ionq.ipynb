{
  "cells": [
    {
      "cell_type": "markdown",
      "source": [
        "# 👋🌍 Hello, world: Submit a Q# job to IonQ\n",
        "\n",
        "In this notebook, we'll review the basics of Azure Quantum by submitting a simple *job*, or quantum program, to [IonQ](https://ionq.com/). We will use [Q#](https://docs.microsoft.com/azure/quantum/user-guide/) to express the quantum job."
      ],
      "metadata": {},
      "id": "dd5f793d-0891-4324-be8b-79b5d2d59011"
    },
    {
      "cell_type": "markdown",
      "source": [
        "## Submit a simple job to IonQ using Azure Quantum\n",
        "Azure Quantum provides several ways to express quantum programs. In this example we are using Q#, but note that Qiskit and Cirq are also supported. All code in this example will be written in Python and Q#.\n",
        "\n",
        "Let's begin. When you see a code block, hover over it and click the triangle play-button to execute it. To avoid any compilation issues, this should be done in order from top to bottom."
      ],
      "metadata": {
        "nteract": {
          "transient": {
            "deleting": false
          }
        }
      },
      "id": "be8dc4f4-12cf-48bd-befe-fadefd1a62b5"
    },
    {
      "cell_type": "markdown",
      "source": [
        "### 1. Connect to the Azure Quantum workspace\n",
        "\n",
        "To connect to the Azure Quantum service, call the `connect` function as seen below. This can take 30 seconds to run the first time, as the Q# environment is initializing."
      ],
      "metadata": {
        "nteract": {
          "transient": {
            "deleting": false
          }
        }
      },
      "id": "837fa3c1-35fa-4425-822a-eedd20a9d1fa"
    },
    {
      "cell_type": "code",
      "source": [
        "import qsharp.azure\n",
        "\n",
        "targets = qsharp.azure.connect(\n",
        "            resourceId = \"/subscriptions/d2ea2cc4-3135-44af-b8bc-7017e0784ef8/resourceGroups/AzureQuantum/providers/Microsoft.Quantum/Workspaces/Kaif\",\n",
        "            location = \"eastus\")\n",
        "\n"
      ],
      "outputs": [
        {
          "output_type": "stream",
          "name": "stdout",
          "text": "Preparing Q# environment...\n"
        },
        {
          "output_type": "display_data",
          "data": {
            "text/plain": "Connecting to Azure Quantum...",
            "application/x-qsharp-data": "\"Connecting to Azure Quantum...\""
          },
          "metadata": {}
        },
        {
          "output_type": "stream",
          "name": "stdout",
          "text": "Authenticated using Microsoft.Azure.Quantum.Authentication.TokenFileCredential\n\n\nConnected to Azure Quantum workspace Kaif in location eastus.\n"
        }
      ],
      "execution_count": 1,
      "metadata": {},
      "id": "2ef334c3-38da-4fb4-be10-bce2b859a57f"
    },
    {
      "cell_type": "markdown",
      "source": [
        "We can use the resulting object to see which _targets_ are available for submission."
      ],
      "metadata": {
        "nteract": {
          "transient": {
            "deleting": false
          }
        }
      },
      "id": "3a652fd9-d9c9-4387-b0c8-c734060ee8a8"
    },
    {
      "cell_type": "code",
      "source": [
        "import qsharp\n",
        "\n",
        "print(\"This workspace's targets:\")\n",
        "for target in targets:\n",
        "    print(\"-\", target.id)\n"
      ],
      "outputs": [
        {
          "output_type": "stream",
          "name": "stdout",
          "text": "This workspace's targets:\n- ionq.qpu\n- ionq.qpu.aria-1\n- ionq.simulator\n- microsoft.estimator\n- quantinuum.hqs-lt-s1\n- quantinuum.hqs-lt-s1-apival\n- quantinuum.hqs-lt-s2\n- quantinuum.hqs-lt-s2-apival\n- quantinuum.hqs-lt-s1-sim\n- quantinuum.hqs-lt-s2-sim\n- quantinuum.qpu.h1-1\n- quantinuum.sim.h1-1sc\n- quantinuum.qpu.h1-2\n- quantinuum.sim.h1-2sc\n- quantinuum.sim.h1-1e\n- quantinuum.sim.h1-2e\n- rigetti.sim.qvm\n- rigetti.qpu.aspen-m-2\n- rigetti.qpu.aspen-m-3\n"
        }
      ],
      "execution_count": 2,
      "metadata": {
        "jupyter": {
          "outputs_hidden": false,
          "source_hidden": false
        },
        "nteract": {
          "transient": {
            "deleting": false
          }
        }
      },
      "id": "f7b2442d-c74a-4f8a-ad6a-60a6e5b22154"
    },
    {
      "cell_type": "markdown",
      "source": [
        "### ❕ Do you see `ionq.simulator` in your list of targets? If so, you're ready to keep going.\n",
        "\n",
        "Don't see it? You may need to add IonQ to your workspace to run this sample. Navigate to the **Providers** page in the portal and click **+Add** to add the IonQ provider. Don't worry, there's a free credits plan available."
      ],
      "metadata": {
        "nteract": {
          "transient": {
            "deleting": false
          }
        }
      },
      "id": "8638f0bf-296f-426b-88e0-963a305c30b5"
    },
    {
      "cell_type": "markdown",
      "source": [
        "## IonQ: The quantum provider\n",
        "Azure Quantum partners with third-party companies to deliver solutions to quantum jobs. These company offerings are called *providers*. Each provider can offer multiple *targets* with different capabilities. See the table below for IonQ's targets.\n",
        "\n",
        "| Target name | Target ID | Number of qubits | Description |\n",
        "| --- | --- | --- | --- |\n",
        "| Quantum simulator | `ionq.simulator` | 29 qubits | IonQ's cloud-based idealized simulator. Free of cost. |\n",
        "| Aria 1 | `ionq.qpu.aria-1` | 23 qubits | IonQ's Aria 1 trapped-ion quantum computer. This is real quantum hardware, not a simulation. |\n",
        "| Quantum computer | `ionq.qpu` | 11 qubits | IonQ's trapped-ion quantum computer. This is real quantum hardware, not a simulation. |\n",
        "\n",
        "For this example, we will use `ionq.simulator`. To learn more about IonQ's targets, check out our [documentation](https://docs.microsoft.com/azure/quantum/provider-ionq)."
      ],
      "metadata": {
        "nteract": {
          "transient": {
            "deleting": false
          }
        }
      },
      "id": "262e46ee-b6e0-4d8c-a3b2-005cc6273b5f"
    },
    {
      "cell_type": "markdown",
      "source": [
        "### 2. Build the quantum program\n",
        "\n",
        "Let's create a simple Q# program to run. This can take 30 seconds to run the first time, as the Q# environment is initializing."
      ],
      "metadata": {},
      "id": "94da66c9-065a-4227-8205-2f580614c7ef"
    },
    {
      "cell_type": "code",
      "source": [
        "# We declare the function we will define in Q# as a callable so that Python recognizes the symbol.\n",
        "GenerateRandomBit: any = None\n"
      ],
      "outputs": [],
      "execution_count": 3,
      "metadata": {
        "jupyter": {
          "outputs_hidden": false,
          "source_hidden": false
        },
        "nteract": {
          "transient": {
            "deleting": false
          }
        }
      },
      "id": "bfdd572e-2ab3-44b7-9684-32027e291a0b"
    },
    {
      "cell_type": "code",
      "source": [
        "%%qsharp\n",
        "open Microsoft.Quantum.Measurement;\n",
        "open Microsoft.Quantum.Arrays;\n",
        "open Microsoft.Quantum.Convert;\n",
        "\n",
        "operation GenerateRandomBit() : Result {\n",
        "    use target = Qubit();\n",
        "\n",
        "    // Apply an H-gate and measure.\n",
        "    H(target);\n",
        "    return M(target);\n",
        "}\n"
      ],
      "outputs": [],
      "execution_count": 4,
      "metadata": {
        "microsoft": {
          "language": "qsharp"
        }
      },
      "id": "7b52b70a-bc19-4726-aa08-f67dc52804e0"
    },
    {
      "cell_type": "markdown",
      "source": [
        "The program you built is a simple quantum random bit generator. With IonQ's idealized simulator, we will be able to calculate the probability of measuring a `1` or `0`."
      ],
      "metadata": {
        "nteract": {
          "transient": {
            "deleting": false
          }
        }
      },
      "id": "889007ae-b064-42b2-82a6-d90fed8422e9"
    },
    {
      "cell_type": "markdown",
      "source": [
        "### 3. Submit the quantum program to IonQ\n",
        "\n",
        "We will use the `execute` function to run the quantum program above on IonQ's `ionq.simulator` target. This may take a minute or so ⏳. Your job will be packaged and sent to IonQ, where it will wait its turn to be run."
      ],
      "metadata": {},
      "id": "bdfc5817-2c50-4883-ba06-e153a1442cb4"
    },
    {
      "cell_type": "code",
      "source": [
        "# Set the target to ionq.simulator\n",
        "qsharp.azure.target(\"ionq.simulator\")\n",
        "\n",
        "# We'll use 100 shots (simulated runs). Timeout is in seconds.\n",
        "result = qsharp.azure.execute(GenerateRandomBit, shots=100, jobName=\"Generate one random bit\", timeout=240)\n"
      ],
      "outputs": [
        {
          "output_type": "stream",
          "name": "stdout",
          "text": "Loading package Microsoft.Quantum.Providers.IonQ and dependencies...\nActive target is now ionq.simulator\nSubmitting GenerateRandomBit to target ionq.simulator...\nJob successfully submitted.\n   Job name: Generate one random bit\n   Job ID: eb049690-a1e5-4e4a-aac7-299c02682c4f\nWaiting up to 240 seconds for Azure Quantum job to complete...\n[16:09:44] Current job status: Waiting\n"
        }
      ],
      "execution_count": 5,
      "metadata": {},
      "id": "7a933a4c-4ba3-4c03-a1e2-bafb194f2f77"
    },
    {
      "cell_type": "markdown",
      "source": [
        "The job ID can be used to retrieve the results later using the `output` and `status` functions or by viewing it under the **Job management** section of the portal."
      ],
      "metadata": {
        "nteract": {
          "transient": {
            "deleting": false
          }
        }
      },
      "id": "80e84a5d-b33f-4fc2-b7bb-0776714eafc3"
    },
    {
      "cell_type": "markdown",
      "source": [
        "### 4. Visualize job results \n",
        "You can also view a histogram of the results using [`pyplot`](https://matplotlib.org/stable/api/_as_gen/matplotlib.pyplot.html):"
      ],
      "metadata": {
        "nteract": {
          "transient": {
            "deleting": false
          }
        }
      },
      "id": "f1c3e7b5-8a67-4dca-890d-30bbacab657e"
    },
    {
      "cell_type": "code",
      "source": [
        "from matplotlib import pyplot\n",
        "\n",
        "pyplot.bar(result.keys(), result.values())\n",
        "pyplot.title(\"Result\")\n",
        "pyplot.xlabel(\"Measurement\")\n",
        "pyplot.ylabel(\"Probability\")\n",
        "\n",
        "pyplot.show()\n"
      ],
      "outputs": [],
      "execution_count": null,
      "metadata": {
        "jupyter": {
          "outputs_hidden": false,
          "source_hidden": false
        },
        "nteract": {
          "transient": {
            "deleting": false
          }
        }
      },
      "id": "ff9087f0-54a3-461f-b20a-589b949f7fce"
    },
    {
      "cell_type": "markdown",
      "source": [
        "**See the histogram above? Congratulations, you've submitted a job with Azure Quantum! 👏**\n"
      ],
      "metadata": {
        "nteract": {
          "transient": {
            "deleting": false
          }
        }
      },
      "id": "2fd55b40-d428-4bcb-9dd2-503238ea7030"
    },
    {
      "cell_type": "markdown",
      "source": [
        "### 5. Next steps\n",
        "Next, you can try running a program on IonQ's hardware target - just replace `ionq.simulator` with `ionq.qpu`. Or try another sample by navigating back to the sample gallery. The same \"hello world\" sample can be run with different quantum providers by choosing another option in the gallery card drop-down menu. Don't worry - your work here is automatically saved.\n",
        "\n",
        "To learn more about submitting jobs to Azure Quantum using Q#, refer to [this documentation](https://docs.microsoft.com/azure/quantum/how-to-submit-jobs?pivots=ide-python).\n",
        "\n",
        "To learn more about job pricing, review the [Azure Quantum documentation on job costs](https://docs.microsoft.com/azure/quantum/azure-quantum-job-costs)."
      ],
      "metadata": {
        "nteract": {
          "transient": {
            "deleting": false
          }
        }
      },
      "id": "48c6ea34-7692-40de-93a9-85d3636313ff"
    }
  ],
  "metadata": {
    "kernel_info": {
      "name": "python3"
    },
    "kernelspec": {
      "name": "python3",
      "language": "python",
      "display_name": "Python 3 (ipykernel)"
    },
    "language_info": {
      "name": "python",
      "version": "3.9.17",
      "mimetype": "text/x-python",
      "codemirror_mode": {
        "name": "ipython",
        "version": 3
      },
      "pygments_lexer": "ipython3",
      "nbconvert_exporter": "python",
      "file_extension": ".py"
    },
    "nteract": {
      "version": "nteract-front-end@1.0.0"
    },
    "microsoft": {
      "host": {
        "AzureQuantum": {
          "sourceType": "SampleGallery",
          "sourceLink": "https://raw.githubusercontent.com/microsoft/Quantum/2faada09f683b1112a3730caa561faff7b35b5df/samples/azure-quantum/hello-world/HW-ionq-qsharp.ipynb"
        }
      }
    }
  },
  "nbformat": 4,
  "nbformat_minor": 5
}