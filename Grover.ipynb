{
  "cells": [
    {
      "cell_type": "code",
      "source": [
        "from azure.quantum import Workspace\n",
        "workspace = Workspace (\n",
        "   resource_id = \"/subscriptions/d2ea2cc4-3135-44af-b8bc-7017e0784ef8/resourceGroups/AzureQuantum/providers/Microsoft.Quantum/Workspaces/Kaif\",\n",
        "   location = \"eastus\"\n",
        ")\n"
      ],
      "outputs": [],
      "execution_count": 1,
      "metadata": {
        "jupyter": {
          "source_hidden": false,
          "outputs_hidden": false
        },
        "nteract": {
          "transient": {
            "deleting": false
          }
        }
      }
    },
    {
      "cell_type": "code",
      "source": [
        "import qsharp"
      ],
      "outputs": [
        {
          "output_type": "stream",
          "name": "stdout",
          "text": "Preparing Q# environment...\n."
        }
      ],
      "execution_count": 2,
      "metadata": {
        "jupyter": {
          "source_hidden": false,
          "outputs_hidden": false
        },
        "nteract": {
          "transient": {
            "deleting": false
          }
        }
      }
    },
    {
      "cell_type": "code",
      "source": [
        "import qsharp.azure"
      ],
      "outputs": [],
      "execution_count": 3,
      "metadata": {
        "jupyter": {
          "source_hidden": false,
          "outputs_hidden": false
        },
        "nteract": {
          "transient": {
            "deleting": false
          }
        }
      }
    },
    {
      "cell_type": "code",
      "source": [
        "%%qsharp\n",
        " open Microsoft.Quantum.Measurement;\n",
        " open Microsoft.Quantum.Math;\n",
        " open Microsoft.Quantum.Convert;\n",
        " open Microsoft.Quantum.Arrays;\n",
        " open Microsoft.Quantum.Diagnostics;\n",
        " open Microsoft.Quantum.Canon;\n",
        " open Microsoft.Quantum.Intrinsic;\n",
        "\n",
        "operation MarkColorEquality(c0 : Qubit[], c1 : Qubit[], target : Qubit) : Unit is Adj+Ctl {\n",
        "        within {\n",
        "            for (q0, q1) in Zipped(c0, c1) {\n",
        "                CNOT(q0, q1);\n",
        "            }\n",
        "        } apply {\n",
        "            (ControlledOnInt(0, X))(c1, target);\n",
        "        }\n",
        "    }\n",
        "\n",
        "operation MarkValidVertexColoring(\n",
        "        edges : (Int, Int)[], \n",
        "        colorsRegister : Qubit[], \n",
        "        target : Qubit\n",
        "    ) : Unit is Adj+Ctl {\n",
        "        let nEdges = Length(edges);\n",
        "        let colors = Chunks(2, colorsRegister);\n",
        "        use conflictQubits = Qubit[nEdges];\n",
        "        within {\n",
        "            for ((start, end), conflictQubit) in Zipped(edges, conflictQubits) {\n",
        "                MarkColorEquality(colors[start], colors[end], conflictQubit);\n",
        "            }\n",
        "        } apply {\n",
        "            (ControlledOnInt(0, X))(conflictQubits, target);\n",
        "        }\n",
        "    }\n",
        "\n",
        "\n",
        "operation ApplyMarkingOracleAsPhaseOracle(\n",
        "        markingOracle : ((Qubit[], Qubit) => Unit is Adj), \n",
        "        register : Qubit[]\n",
        "    ) : Unit is Adj {\n",
        "        use target = Qubit();\n",
        "        within {\n",
        "            X(target);\n",
        "            H(target);\n",
        "        } apply {\n",
        "            markingOracle(register, target);\n",
        "        }\n",
        "    }\n",
        "\n",
        "\n",
        "operation RunGroversSearch(register : Qubit[], phaseOracle : ((Qubit[]) => Unit is Adj), iterations : Int) : Unit {\n",
        "        ApplyToEach(H, register);\n",
        "        \n",
        "        for _ in 1 .. iterations {\n",
        "            phaseOracle(register);\n",
        "            within {\n",
        "                ApplyToEachA(H, register);\n",
        "                ApplyToEachA(X, register);\n",
        "            } apply {\n",
        "                Controlled Z(Most(register), Tail(register));\n",
        "            }\n",
        "        }\n",
        "    }\n",
        "\n",
        "\n",
        "@EntryPoint()\n",
        "operation SolveGraphColoringProblem() : Unit {\n",
        "        // Graph description: hardcoded from the example.\n",
        "        let nVertices = 5;\n",
        "        let edges = [(0, 1), (0, 2), (0, 3), (1, 2), (1, 3), (2, 3), (3, 4)];\n",
        "\n",
        "        // Define the oracle that implements this graph coloring.\n",
        "        let markingOracle = MarkValidVertexColoring(edges, _, _);\n",
        "        let phaseOracle = ApplyMarkingOracleAsPhaseOracle(markingOracle, _);\n",
        "\n",
        "        // Define the parameters of the search.\n",
        "        \n",
        "        // Each color is described using 2 bits (or qubits).\n",
        "        let nQubits = 2 * nVertices;\n",
        "\n",
        "        // The search space is all bit strings of length nQubits.\n",
        "        let searchSpaceSize = 2 ^ (nQubits);\n",
        "\n",
        "        // The number of solutions is the number of permutations of 4 colors (over the first four vertices) = 4!\n",
        "        // multiplied by 3 colors that vertex 4 can take in each case.\n",
        "        let nSolutions = 72;\n",
        "\n",
        "        // The number of iterations can be computed using a formula.\n",
        "        let nIterations = Round(PI() / 4.0 * Sqrt(IntAsDouble(searchSpaceSize) / IntAsDouble(nSolutions)));\n",
        "\n",
        "        mutable answer = [];\n",
        "        use (register, output) = (Qubit[nQubits], Qubit());\n",
        "        mutable isCorrect = false;\n",
        "        repeat {\n",
        "            RunGroversSearch(register, phaseOracle, nIterations);\n",
        "            let res = MultiM(register);\n",
        "            // Check whether the result is correct.\n",
        "            markingOracle(register, output);\n",
        "            if (MResetZ(output) == One) {\n",
        "                set isCorrect = true;\n",
        "                set answer = ResultArrayAsBoolArray(res);\n",
        "            }\n",
        "            ResetAll(register);\n",
        "        } until (isCorrect);\n",
        "        // Convert the answer to readable format (actual graph coloring).\n",
        "        let colorBits = Chunks(2, answer);\n",
        "        Message(\"The resulting graph coloring:\");\n",
        "        for i in 0 .. nVertices - 1 {\n",
        "            Message($\"Vertex {i} - color {BoolArrayAsInt(colorBits[i])}\");\n",
        "        }\n",
        "    }\n"
      ],
      "outputs": [],
      "execution_count": 11,
      "metadata": {
        "jupyter": {
          "source_hidden": false,
          "outputs_hidden": false
        },
        "nteract": {
          "transient": {
            "deleting": false
          }
        },
        "microsoft": {
          "language": "qsharp"
        }
      }
    },
    {
      "cell_type": "code",
      "source": [
        "SolveGraphColoringProblem()"
      ],
      "outputs": [
        {
          "output_type": "stream",
          "name": "stdout",
          "text": "The resulting graph coloring:\nVertex 0 - color 3\nVertex 1 - color 1\nVertex 2 - color 0\nVertex 3 - color 2\nVertex 4 - color 1\n"
        },
        {
          "output_type": "execute_result",
          "execution_count": 12,
          "data": {
            "text/plain": "()"
          },
          "metadata": {}
        }
      ],
      "execution_count": 12,
      "metadata": {
        "jupyter": {
          "source_hidden": false,
          "outputs_hidden": false
        },
        "nteract": {
          "transient": {
            "deleting": false
          }
        }
      }
    },
    {
      "cell_type": "code",
      "source": [],
      "outputs": [],
      "execution_count": null,
      "metadata": {
        "jupyter": {
          "source_hidden": false,
          "outputs_hidden": false
        },
        "nteract": {
          "transient": {
            "deleting": false
          }
        }
      }
    }
  ],
  "metadata": {
    "language_info": {
      "name": "python",
      "version": "3.9.17",
      "mimetype": "text/x-python",
      "codemirror_mode": {
        "name": "ipython",
        "version": 3
      },
      "pygments_lexer": "ipython3",
      "nbconvert_exporter": "python",
      "file_extension": ".py"
    },
    "kernelspec": {
      "name": "python3",
      "language": "python",
      "display_name": "Python 3 (ipykernel)"
    },
    "kernel_info": {
      "name": "python3"
    },
    "nteract": {
      "version": "nteract-front-end@1.0.0"
    }
  },
  "nbformat": 4,
  "nbformat_minor": 0
}